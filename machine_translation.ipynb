{
 "cells": [
  {
   "cell_type": "markdown",
   "metadata": {
    "collapsed": true,
    "deletable": true,
    "editable": true
   },
   "source": [
    "# Artificial Intelligence Nanodegree\n",
    "## Machine Translation Project\n",
    "In this notebook, sections that end with **'(IMPLEMENTATION)'** in the header indicate that the following blocks of code will require additional functionality which you must provide. Please be sure to read the instructions carefully!\n",
    "\n",
    "## Introduction\n",
    "In this notebook, you will build a deep neural network that functions as part of an end-to-end machine translation pipeline. Your completed pipeline will accept English text as input and return the French translation.\n",
    "\n",
    "- **Preprocess** - You'll convert text to sequence of integers.\n",
    "- **Models** Create models which accepts a sequence of integers as input and returns a probability distribution over possible translations. After learning about the basic types of neural networks that are often used for machine translation, you will engage in your own investigations, to design your own model!\n",
    "- **Prediction** Run the model on English text.\n",
    "\n",
    "## Dataset\n",
    "We begin by investigating the dataset that will be used to train and evaluate your pipeline.  The most common datasets used for machine translation are from [WMT](http://www.statmt.org/).  However, that will take a long time to train a neural network on.  We'll be using a dataset we created for this project that contains a small vocabulary.  You'll be able to train your model in a reasonable time with this dataset.\n",
    "### Load Data\n",
    "The data is located in `data/small_vocab_en` and `data/small_vocab_fr`. The `small_vocab_en` file contains English sentences with their French translations in the `small_vocab_fr` file. Load the English and French data from these files from running the cell below."
   ]
  },
  {
   "cell_type": "code",
   "execution_count": 1,
   "metadata": {
    "collapsed": false,
    "deletable": true,
    "editable": true
   },
   "outputs": [
    {
     "name": "stdout",
     "output_type": "stream",
     "text": [
      "Dataset Loaded\n"
     ]
    }
   ],
   "source": [
    "import helper\n",
    "\n",
    "\n",
    "# Load English data\n",
    "english_sentences = helper.load_data('data/small_vocab_en')\n",
    "# Load French data\n",
    "french_sentences = helper.load_data('data/small_vocab_fr')\n",
    "\n",
    "print('Dataset Loaded')"
   ]
  },
  {
   "cell_type": "markdown",
   "metadata": {
    "deletable": true,
    "editable": true
   },
   "source": [
    "### Files\n",
    "Each line in `small_vocab_en` contains an English sentence with the respective translation in each line of `small_vocab_fr`.  View the first two lines from each file."
   ]
  },
  {
   "cell_type": "code",
   "execution_count": 2,
   "metadata": {
    "collapsed": false,
    "deletable": true,
    "editable": true
   },
   "outputs": [
    {
     "name": "stdout",
     "output_type": "stream",
     "text": [
      "small_vocab_en Line 1:  new jersey is sometimes quiet during autumn , and it is snowy in april .\n",
      "small_vocab_fr Line 1:  new jersey est parfois calme pendant l' automne , et il est neigeux en avril .\n",
      "small_vocab_en Line 2:  the united states is usually chilly during july , and it is usually freezing in november .\n",
      "small_vocab_fr Line 2:  les états-unis est généralement froid en juillet , et il gèle habituellement en novembre .\n"
     ]
    }
   ],
   "source": [
    "for sample_i in range(2):\n",
    "    print('small_vocab_en Line {}:  {}'.format(sample_i + 1, english_sentences[sample_i]))\n",
    "    print('small_vocab_fr Line {}:  {}'.format(sample_i + 1, french_sentences[sample_i]))"
   ]
  },
  {
   "cell_type": "markdown",
   "metadata": {
    "deletable": true,
    "editable": true
   },
   "source": [
    "From looking at the sentences, you can see they have been preprocessed already.  The puncuations have been delimited using spaces. All the text have been converted to lowercase.  This should save you some time, but the text requires more preprocessing.\n",
    "### Vocabulary\n",
    "The complexity of the problem is determined by the complexity of the vocabulary.  A more complex vocabulary is a more complex problem.  Let's look at the complexity of the dataset we'll be working with."
   ]
  },
  {
   "cell_type": "code",
   "execution_count": 3,
   "metadata": {
    "collapsed": false,
    "deletable": true,
    "editable": true
   },
   "outputs": [
    {
     "name": "stdout",
     "output_type": "stream",
     "text": [
      "1823250 English words.\n",
      "227 unique English words.\n",
      "10 Most common words in the English dataset:\n",
      "\"is\" \",\" \".\" \"in\" \"it\" \"during\" \"the\" \"but\" \"and\" \"sometimes\"\n",
      "\n",
      "1961295 French words.\n",
      "355 unique French words.\n",
      "10 Most common words in the French dataset:\n",
      "\"est\" \".\" \",\" \"en\" \"il\" \"les\" \"mais\" \"et\" \"la\" \"parfois\"\n"
     ]
    }
   ],
   "source": [
    "import collections\n",
    "\n",
    "\n",
    "english_words_counter = collections.Counter([word for sentence in english_sentences for word in sentence.split()])\n",
    "french_words_counter = collections.Counter([word for sentence in french_sentences for word in sentence.split()])\n",
    "\n",
    "print('{} English words.'.format(len([word for sentence in english_sentences for word in sentence.split()])))\n",
    "print('{} unique English words.'.format(len(english_words_counter)))\n",
    "print('10 Most common words in the English dataset:')\n",
    "print('\"' + '\" \"'.join(list(zip(*english_words_counter.most_common(10)))[0]) + '\"')\n",
    "print()\n",
    "print('{} French words.'.format(len([word for sentence in french_sentences for word in sentence.split()])))\n",
    "print('{} unique French words.'.format(len(french_words_counter)))\n",
    "print('10 Most common words in the French dataset:')\n",
    "print('\"' + '\" \"'.join(list(zip(*french_words_counter.most_common(10)))[0]) + '\"')"
   ]
  },
  {
   "cell_type": "markdown",
   "metadata": {
    "deletable": true,
    "editable": true
   },
   "source": [
    "For comparison, _Alice's Adventures in Wonderland_ contains 2,766 unique words of a total of 15,500 words.\n",
    "## Preprocess\n",
    "For this project, you won't use text data as input to your model. Instead, you'll convert the text into sequences of integers using the following preprocess methods:\n",
    "1. Tokenize the words into ids\n",
    "2. Add padding to make all the sequences the same length.\n",
    "\n",
    "Time to start preprocessing the data...\n",
    "### Tokenize (IMPLEMENTATION)\n",
    "For a neural network to predict on text data, it first has to be turned into data it can understand. Text data like \"dog\" is a sequence of ASCII character encodings.  Since a neural network is a series of multiplication and addition operations, the input data needs to be number(s).\n",
    "\n",
    "We can turn each character into a number or each word into a number.  These are called character and word ids, respectively.  Character ids are used for character level models that generate text predictions for each character.  A word level model uses word ids that generate text predictions for each word.  Word level models tend to learn better, since they are lower in complexity, so we'll use those.\n",
    "\n",
    "Turn each sentence into a sequence of words ids using Keras's [`Tokenizer`](https://keras.io/preprocessing/text/#tokenizer) function. Use this function to tokenize `english_sentences` and `french_sentences` in the cell below.\n",
    "\n",
    "Running the cell will run `tokenize` on sample data and show output for debugging."
   ]
  },
  {
   "cell_type": "code",
   "execution_count": 4,
   "metadata": {
    "collapsed": false,
    "deletable": true,
    "editable": true,
    "scrolled": true
   },
   "outputs": [
    {
     "name": "stderr",
     "output_type": "stream",
     "text": [
      "Using TensorFlow backend.\n"
     ]
    },
    {
     "name": "stdout",
     "output_type": "stream",
     "text": [
      "{'the': 1, 'quick': 2, 'a': 3, 'brown': 4, 'fox': 5, 'jumps': 6, 'over': 7, 'lazy': 8, 'dog': 9, 'by': 10, 'jove': 11, 'my': 12, 'study': 13, 'of': 14, 'lexicography': 15, 'won': 16, 'prize': 17, 'this': 18, 'is': 19, 'short': 20, 'sentence': 21}\n",
      "\n",
      "Sequence 1 in x\n",
      "  Input:  The quick brown fox jumps over the lazy dog .\n",
      "  Output: [1, 2, 4, 5, 6, 7, 1, 8, 9]\n",
      "Sequence 2 in x\n",
      "  Input:  By Jove , my quick study of lexicography won a prize .\n",
      "  Output: [10, 11, 12, 2, 13, 14, 15, 16, 3, 17]\n",
      "Sequence 3 in x\n",
      "  Input:  This is a short sentence .\n",
      "  Output: [18, 19, 3, 20, 21]\n"
     ]
    }
   ],
   "source": [
    "import project_tests as tests\n",
    "from keras.preprocessing.text import Tokenizer\n",
    "\n",
    "\n",
    "def tokenize(x):\n",
    "    \"\"\"\n",
    "    Tokenize x\n",
    "    :param x: List of sentences/strings to be tokenized\n",
    "    :return: Tuple of (tokenized x data, tokenizer used to tokenize x)\n",
    "    \"\"\"\n",
    "    tokenizer_x = Tokenizer()\n",
    "    tokenizer_x.fit_on_texts(x)\n",
    "    tokenized_x = tokenizer_x.texts_to_sequences(x)\n",
    "    \n",
    "    return tokenized_x, tokenizer_x\n",
    "\n",
    "tests.test_tokenize(tokenize)\n",
    "\n",
    "# Tokenize Example output\n",
    "text_sentences = [\n",
    "    'The quick brown fox jumps over the lazy dog .',\n",
    "    'By Jove , my quick study of lexicography won a prize .',\n",
    "    'This is a short sentence .']\n",
    "text_tokenized, text_tokenizer = tokenize(text_sentences)\n",
    "print(text_tokenizer.word_index)\n",
    "print()\n",
    "for sample_i, (sent, token_sent) in enumerate(zip(text_sentences, text_tokenized)):\n",
    "    print('Sequence {} in x'.format(sample_i + 1))\n",
    "    print('  Input:  {}'.format(sent))\n",
    "    print('  Output: {}'.format(token_sent))"
   ]
  },
  {
   "cell_type": "markdown",
   "metadata": {
    "deletable": true,
    "editable": true
   },
   "source": [
    "### Padding (IMPLEMENTATION)\n",
    "When batching the sequence of word ids together, each sequence needs to be the same length.  Since sentences are dynamic in length, we can add padding to the end of the sequences to make them the same length.\n",
    "\n",
    "Make sure all the English sequences have the same length and all the French sequences have the same length by adding padding to the **end** of each sequence using Keras's [`pad_sequences`](https://keras.io/preprocessing/sequence/#pad_sequences) function."
   ]
  },
  {
   "cell_type": "code",
   "execution_count": 5,
   "metadata": {
    "collapsed": false,
    "deletable": true,
    "editable": true
   },
   "outputs": [
    {
     "name": "stdout",
     "output_type": "stream",
     "text": [
      "Sequence 1 in x\n",
      "  Input:  [1 2 4 5 6 7 1 8 9]\n",
      "  Output: [1 2 4 5 6 7 1 8 9 0]\n",
      "Sequence 2 in x\n",
      "  Input:  [10 11 12  2 13 14 15 16  3 17]\n",
      "  Output: [10 11 12  2 13 14 15 16  3 17]\n",
      "Sequence 3 in x\n",
      "  Input:  [18 19  3 20 21]\n",
      "  Output: [18 19  3 20 21  0  0  0  0  0]\n"
     ]
    }
   ],
   "source": [
    "import numpy as np\n",
    "from keras.preprocessing.sequence import pad_sequences\n",
    "\n",
    "\n",
    "def pad(x, length=None):\n",
    "    \"\"\"\n",
    "    Pad x\n",
    "    :param x: List of sequences.\n",
    "    :param length: Length to pad the sequence to.  If None, use length of longest sequence in x.\n",
    "    :return: Padded numpy array of sequences\n",
    "    \"\"\"\n",
    "    array = pad_sequences(x, maxlen=length, padding='post') # post pads at end (distal)\n",
    "    \n",
    "    return array\n",
    "\n",
    "tests.test_pad(pad)\n",
    "\n",
    "# Pad Tokenized output\n",
    "test_pad = pad(text_tokenized)\n",
    "for sample_i, (token_sent, pad_sent) in enumerate(zip(text_tokenized, test_pad)):\n",
    "    print('Sequence {} in x'.format(sample_i + 1))\n",
    "    print('  Input:  {}'.format(np.array(token_sent)))\n",
    "    print('  Output: {}'.format(pad_sent))"
   ]
  },
  {
   "cell_type": "markdown",
   "metadata": {
    "deletable": true,
    "editable": true
   },
   "source": [
    "### Preprocess Pipeline\n",
    "Your focus for this project is to build neural network architecture, so we won't ask you to create a preprocess pipeline.  Instead, we've provided you with the implementation of the `preprocess` function."
   ]
  },
  {
   "cell_type": "code",
   "execution_count": 6,
   "metadata": {
    "collapsed": false,
    "deletable": true,
    "editable": true
   },
   "outputs": [
    {
     "name": "stdout",
     "output_type": "stream",
     "text": [
      "Data Preprocessed\n"
     ]
    }
   ],
   "source": [
    "def preprocess(x, y):\n",
    "    \"\"\"\n",
    "    Preprocess x and y\n",
    "    :param x: Feature List of sentences\n",
    "    :param y: Label List of sentences\n",
    "    :return: Tuple of (Preprocessed x, Preprocessed y, x tokenizer, y tokenizer)\n",
    "    \"\"\"\n",
    "    preprocess_x, x_tk = tokenize(x)\n",
    "    preprocess_y, y_tk = tokenize(y)\n",
    "\n",
    "    preprocess_x = pad(preprocess_x)\n",
    "    preprocess_y = pad(preprocess_y)\n",
    "\n",
    "    # Keras's sparse_categorical_crossentropy function requires the labels to be in 3 dimensions\n",
    "    preprocess_y = preprocess_y.reshape(*preprocess_y.shape, 1)\n",
    "\n",
    "    return preprocess_x, preprocess_y, x_tk, y_tk\n",
    "\n",
    "preproc_english_sentences, preproc_french_sentences, english_tokenizer, french_tokenizer =\\\n",
    "    preprocess(english_sentences, french_sentences)\n",
    "\n",
    "print('Data Preprocessed')"
   ]
  },
  {
   "cell_type": "markdown",
   "metadata": {
    "deletable": true,
    "editable": true
   },
   "source": [
    "## Models\n",
    "In this section, you will experiment with various neural network architectures.\n",
    "You will begin by training four relatively simple architectures.\n",
    "- Model 1 is a simple RNN\n",
    "- Model 2 is a RNN with Embedding\n",
    "- Model 3 is a Bidirectional RNN\n",
    "- Model 4 is an optional Encoder-Decoder RNN\n",
    "\n",
    "After experimenting with the four simple architectures, you will construct a deeper architecture that is designed to outperform all four models.\n",
    "### Ids Back to Text\n",
    "The neural network will be translating the input to words ids, which isn't the final form we want.  We want the French translation.  The function `logits_to_text` will bridge the gab between the logits from the neural network to the French translation.  You'll be using this function to better understand the output of the neural network."
   ]
  },
  {
   "cell_type": "code",
   "execution_count": 7,
   "metadata": {
    "collapsed": false,
    "deletable": true,
    "editable": true
   },
   "outputs": [
    {
     "name": "stdout",
     "output_type": "stream",
     "text": [
      "`logits_to_text` function loaded.\n"
     ]
    }
   ],
   "source": [
    "def logits_to_text(logits, tokenizer):\n",
    "    \"\"\"\n",
    "    Turn logits from a neural network into text using the tokenizer\n",
    "    :param logits: Logits from a neural network\n",
    "    :param tokenizer: Keras Tokenizer fit on the labels\n",
    "    :return: String that represents the text of the logits\n",
    "    \"\"\"\n",
    "    index_to_words = {id: word for word, id in tokenizer.word_index.items()}\n",
    "    index_to_words[0] = '<PAD>'\n",
    "\n",
    "    return ' '.join([index_to_words[prediction] for prediction in np.argmax(logits, 1)])\n",
    "\n",
    "print('`logits_to_text` function loaded.')"
   ]
  },
  {
   "cell_type": "markdown",
   "metadata": {
    "deletable": true,
    "editable": true
   },
   "source": [
    "### Model 1: RNN (IMPLEMENTATION)\n",
    "![RNN](images/rnn.png)\n",
    "A basic RNN model is a good baseline for sequence data.  In this model, you'll build a RNN that translates English to French."
   ]
  },
  {
   "cell_type": "code",
   "execution_count": 8,
   "metadata": {
    "collapsed": false
   },
   "outputs": [
    {
     "name": "stdout",
     "output_type": "stream",
     "text": [
      "_________________________________________________________________\n",
      "Layer (type)                 Output Shape              Param #   \n",
      "=================================================================\n",
      "lstm_1 (LSTM)                (None, 21, 21)            1932      \n",
      "_________________________________________________________________\n",
      "dense_1 (Dense)              (None, 21, 1376)          30272     \n",
      "_________________________________________________________________\n",
      "activation_1 (Activation)    (None, 21, 1376)          0         \n",
      "_________________________________________________________________\n",
      "dense_2 (Dense)              (None, 21, 344)           473688    \n",
      "_________________________________________________________________\n",
      "activation_2 (Activation)    (None, 21, 344)           0         \n",
      "=================================================================\n",
      "Total params: 505,892\n",
      "Trainable params: 505,892\n",
      "Non-trainable params: 0\n",
      "_________________________________________________________________\n",
      "None\n",
      "_________________________________________________________________\n",
      "Layer (type)                 Output Shape              Param #   \n",
      "=================================================================\n",
      "lstm_2 (LSTM)                (None, 21, 21)            1932      \n",
      "_________________________________________________________________\n",
      "dense_3 (Dense)              (None, 21, 1376)          30272     \n",
      "_________________________________________________________________\n",
      "activation_3 (Activation)    (None, 21, 1376)          0         \n",
      "_________________________________________________________________\n",
      "dense_4 (Dense)              (None, 21, 344)           473688    \n",
      "_________________________________________________________________\n",
      "activation_4 (Activation)    (None, 21, 344)           0         \n",
      "=================================================================\n",
      "Total params: 505,892\n",
      "Trainable params: 505,892\n",
      "Non-trainable params: 0\n",
      "_________________________________________________________________\n",
      "None\n",
      "Train on 110288 samples, validate on 27573 samples\n",
      "Epoch 1/10\n",
      "16s - loss: 2.0267 - acc: 0.5432 - val_loss: nan - val_acc: 0.6213\n",
      "Epoch 2/10\n",
      "11s - loss: 1.3313 - acc: 0.6392 - val_loss: nan - val_acc: 0.6549\n",
      "Epoch 3/10\n",
      "11s - loss: 1.1984 - acc: 0.6629 - val_loss: nan - val_acc: 0.6691\n",
      "Epoch 4/10\n",
      "11s - loss: 1.1191 - acc: 0.6758 - val_loss: nan - val_acc: 0.6796\n",
      "Epoch 5/10\n",
      "11s - loss: 1.0630 - acc: 0.6837 - val_loss: nan - val_acc: 0.6868\n",
      "Epoch 6/10\n",
      "11s - loss: 1.0261 - acc: 0.6878 - val_loss: nan - val_acc: 0.6861\n",
      "Epoch 7/10\n",
      "11s - loss: 0.9960 - acc: 0.6924 - val_loss: nan - val_acc: 0.6899\n",
      "Epoch 8/10\n",
      "11s - loss: 0.9712 - acc: 0.6958 - val_loss: nan - val_acc: 0.7025\n",
      "Epoch 9/10\n",
      "11s - loss: 0.9449 - acc: 0.7000 - val_loss: nan - val_acc: 0.7066\n",
      "Epoch 10/10\n",
      "11s - loss: 0.9313 - acc: 0.7027 - val_loss: nan - val_acc: 0.7021\n",
      "new jersey est parfois chaud en mois de mai est est en en <PAD> <PAD> <PAD> <PAD> <PAD> <PAD> <PAD> <PAD>\n"
     ]
    }
   ],
   "source": [
    "from keras.layers import GRU, Input, Dense, TimeDistributed, LSTM\n",
    "from keras.models import Model, Sequential\n",
    "from keras.layers import Activation\n",
    "from keras.optimizers import Adam\n",
    "from keras.losses import sparse_categorical_crossentropy\n",
    "from keras.layers.core import Dropout\n",
    "\n",
    "def simple_model(input_shape, output_sequence_length, english_vocab_size, french_vocab_size):\n",
    "    \"\"\"\n",
    "    Build and train a basic RNN on x and y\n",
    "    :param input_shape: Tuple of input shape\n",
    "    :param output_sequence_length: Length of output sequence\n",
    "    :param english_vocab_size: Number of unique English words in the dataset\n",
    "    :param french_vocab_size: Number of unique French words in the dataset\n",
    "    :return: Keras model built, but not trained\n",
    "    \"\"\"\n",
    "   \n",
    "    model = Sequential()\n",
    "    model.add(LSTM(output_sequence_length, input_shape= input_shape[1:], return_sequences= True)) # shape for 1d vector\n",
    "    model.add(Dense(french_vocab_size * 4)) # fully connect layer with as many outputs as the french vocabulary\n",
    "    model.add(Activation('relu')) # protect against disapearing gradient \n",
    "    model.add(Dense(french_vocab_size)) # fully connect layer with as many outputs as the french vocabulary\n",
    "    model.add(Activation('softmax')) # softmax for multi-class\n",
    "    \n",
    "    learning_rate = 0.01\n",
    "    \n",
    "    model.compile(loss=sparse_categorical_crossentropy,\n",
    "                  optimizer=Adam(learning_rate),\n",
    "                  metrics=['accuracy'])\n",
    "    \n",
    "    print(model.summary())\n",
    "   \n",
    "    return model\n",
    "\n",
    "tests.test_simple_model(simple_model)\n",
    "\n",
    "\n",
    "\n",
    "\n",
    "# Reshaping the input to work with a basic RNN\n",
    "tmp_x = pad(preproc_english_sentences, preproc_french_sentences.shape[1])\n",
    "tmp_x = tmp_x.reshape((-1, preproc_french_sentences.shape[-2], 1))\n",
    "\n",
    "# Train the neural network\n",
    "simple_rnn_model = simple_model(\n",
    "    tmp_x.shape,\n",
    "    preproc_french_sentences.shape[1],\n",
    "    len(english_tokenizer.word_index),\n",
    "    len(french_tokenizer.word_index))\n",
    "simple_rnn_model.fit(tmp_x, preproc_french_sentences, batch_size=1024, epochs=10, validation_split=0.2, verbose= 2)\n",
    "\n",
    "# Print prediction(s)\n",
    "print(logits_to_text(simple_rnn_model.predict(tmp_x[:1])[0], french_tokenizer))"
   ]
  },
  {
   "cell_type": "markdown",
   "metadata": {
    "deletable": true,
    "editable": true
   },
   "source": [
    "### Model 2: Embedding (IMPLEMENTATION)\n",
    "![RNN](images/embedding.png)\n",
    "You've turned the words into ids, but there's a better representation of a word.  This is called word embeddings.  An embedding is a vector representation of the word that is close to similar words in n-dimensional space, where the n represents the size of the embedding vectors.\n",
    "\n",
    "In this model, you'll create a RNN model using embedding."
   ]
  },
  {
   "cell_type": "code",
   "execution_count": 9,
   "metadata": {
    "collapsed": false
   },
   "outputs": [
    {
     "name": "stdout",
     "output_type": "stream",
     "text": [
      "_________________________________________________________________\n",
      "Layer (type)                 Output Shape              Param #   \n",
      "=================================================================\n",
      "embedding_1 (Embedding)      (None, 21, 128)           25472     \n",
      "_________________________________________________________________\n",
      "lstm_3 (LSTM)                (None, 21, 344)           650848    \n",
      "_________________________________________________________________\n",
      "dense_5 (Dense)              (None, 21, 344)           118680    \n",
      "_________________________________________________________________\n",
      "activation_5 (Activation)    (None, 21, 344)           0         \n",
      "_________________________________________________________________\n",
      "dense_6 (Dense)              (None, 21, 344)           118680    \n",
      "_________________________________________________________________\n",
      "activation_6 (Activation)    (None, 21, 344)           0         \n",
      "=================================================================\n",
      "Total params: 913,680\n",
      "Trainable params: 913,680\n",
      "Non-trainable params: 0\n",
      "_________________________________________________________________\n",
      "None\n"
     ]
    }
   ],
   "source": [
    "from keras.layers.embeddings import Embedding\n",
    "from keras.layers import GRU, Input, Dense, TimeDistributed, LSTM\n",
    "from keras.models import Model, Sequential\n",
    "from keras.layers import Activation\n",
    "from keras.optimizers import Adam\n",
    "from keras.losses import sparse_categorical_crossentropy\n",
    "from keras.layers.core import Dropout\n",
    "\n",
    "def embed_model(input_shape, output_sequence_length, english_vocab_size, french_vocab_size):\n",
    "    \"\"\"\n",
    "    Build and train a RNN model using word embedding on x and y\n",
    "    :param input_shape: Tuple of input shape\n",
    "    :param output_sequence_length: Length of output sequence\n",
    "    :param english_vocab_size: Number of unique English words in the dataset\n",
    "    :param french_vocab_size: Number of unique French words in the dataset\n",
    "    :return: Keras model built, but not trained\n",
    "    \"\"\"\n",
    "    \n",
    "    model = Sequential()\n",
    "    model.add(Embedding(english_vocab_size,128,input_length= input_shape[1])) # shape for 1d vector\n",
    "    model.add(LSTM(french_vocab_size, return_sequences= True)) \n",
    "    model.add(Dense(french_vocab_size)) # fully connect layer with as many outputs as the french vocabulary\n",
    "    model.add(Activation('relu')) # protect against disappearing gradient \n",
    "    model.add(Dense(french_vocab_size)) # fully connect layer with as many outputs as the french vocabulary\n",
    "    model.add(Activation('softmax')) # softmax for multi-class\n",
    "    \n",
    "    learning_rate=0.01\n",
    "    \n",
    "    model.compile(loss=sparse_categorical_crossentropy,\n",
    "                  optimizer=Adam(learning_rate),\n",
    "                  metrics=['accuracy'])   \n",
    "    \n",
    "    print(model.summary())\n",
    "  \n",
    "    return model\n",
    "\n",
    "tests.test_embed_model(embed_model)\n",
    "\n"
   ]
  },
  {
   "cell_type": "code",
   "execution_count": 59,
   "metadata": {
    "collapsed": false,
    "deletable": true,
    "editable": true
   },
   "outputs": [
    {
     "name": "stdout",
     "output_type": "stream",
     "text": [
      "Train on 110288 samples, validate on 27573 samples\n",
      "Epoch 1/10\n",
      "21s - loss: 1.5120 - acc: 0.6608 - val_loss: nan - val_acc: 0.8437\n",
      "Epoch 2/10\n",
      "20s - loss: 0.3587 - acc: 0.8844 - val_loss: nan - val_acc: 0.9062\n",
      "Epoch 3/10\n",
      "20s - loss: 0.2482 - acc: 0.9162 - val_loss: nan - val_acc: 0.9222\n",
      "Epoch 4/10\n",
      "20s - loss: 0.2132 - acc: 0.9262 - val_loss: nan - val_acc: 0.9269\n",
      "Epoch 5/10\n",
      "20s - loss: 0.1958 - acc: 0.9315 - val_loss: nan - val_acc: 0.9309\n",
      "Epoch 6/10\n",
      "20s - loss: 0.1859 - acc: 0.9343 - val_loss: nan - val_acc: 0.9333\n",
      "Epoch 7/10\n",
      "20s - loss: 0.1794 - acc: 0.9361 - val_loss: nan - val_acc: 0.9338\n",
      "Epoch 8/10\n",
      "20s - loss: 0.1742 - acc: 0.9373 - val_loss: nan - val_acc: 0.9356\n",
      "Epoch 9/10\n",
      "20s - loss: 0.1723 - acc: 0.9381 - val_loss: nan - val_acc: 0.9349\n",
      "Epoch 10/10\n",
      "20s - loss: 0.1684 - acc: 0.9391 - val_loss: nan - val_acc: 0.9347\n",
      "new jersey est parfois calme en l' automne et il est neigeux en avril <PAD> <PAD> <PAD> <PAD> <PAD> <PAD> <PAD>\n"
     ]
    }
   ],
   "source": [
    "# Reshaping the input to work with a basic RNN\n",
    "tmp_x = pad(preproc_english_sentences, preproc_french_sentences.shape[1])\n",
    "#tmp_x = tmp_x.reshape((-1, preproc_french_sentences.shape[-2], 1))\n",
    "\n",
    "# Train the neural network\n",
    "embedded_rnn_model = embed_model(\n",
    "    tmp_x.shape,\n",
    "    preproc_french_sentences.shape[1],\n",
    "    len(english_tokenizer.word_index),\n",
    "    len(french_tokenizer.word_index))\n",
    "\n",
    "embedded_rnn_model.fit(tmp_x, preproc_french_sentences, batch_size=1024, epochs=10, validation_split=0.2, verbose= 2)\n",
    "\n",
    "# Print prediction(s)\n",
    "print(logits_to_text(embedded_rnn_model.predict(tmp_x[:1])[0], french_tokenizer))"
   ]
  },
  {
   "cell_type": "markdown",
   "metadata": {
    "deletable": true,
    "editable": true
   },
   "source": [
    "### Model 3: Bidirectional RNNs (IMPLEMENTATION)\n",
    "![RNN](images/bidirectional.png)\n",
    "One restriction of a RNN is that it can't see the future input, only the past.  This is where bidirectional recurrent neural networks come in.  They are able to see the future data."
   ]
  },
  {
   "cell_type": "code",
   "execution_count": 11,
   "metadata": {
    "collapsed": false
   },
   "outputs": [
    {
     "name": "stdout",
     "output_type": "stream",
     "text": [
      "_________________________________________________________________\n",
      "Layer (type)                 Output Shape              Param #   \n",
      "=================================================================\n",
      "bidirectional_1 (Bidirection (None, 21, 42)            3864      \n",
      "_________________________________________________________________\n",
      "dense_7 (Dense)              (None, 21, 344)           14792     \n",
      "_________________________________________________________________\n",
      "activation_7 (Activation)    (None, 21, 344)           0         \n",
      "_________________________________________________________________\n",
      "dense_8 (Dense)              (None, 21, 344)           118680    \n",
      "_________________________________________________________________\n",
      "activation_8 (Activation)    (None, 21, 344)           0         \n",
      "=================================================================\n",
      "Total params: 137,336\n",
      "Trainable params: 137,336\n",
      "Non-trainable params: 0\n",
      "_________________________________________________________________\n",
      "None\n"
     ]
    }
   ],
   "source": [
    "from keras.layers import Bidirectional\n",
    "\n",
    "\n",
    "def bd_model(input_shape, output_sequence_length, english_vocab_size, french_vocab_size):\n",
    "    \"\"\"\n",
    "    Build and train a bidirectional RNN model on x and y\n",
    "    :param input_shape: Tuple of input shape\n",
    "    :param output_sequence_length: Length of output sequence\n",
    "    :param english_vocab_size: Number of unique English words in the dataset\n",
    "    :param french_vocab_size: Number of unique French words in the dataset\n",
    "    :return: Keras model built, but not trained\n",
    "    \"\"\"\n",
    "        \n",
    "    # https://machinelearningmastery.com/develop-bidirectional-lstm-sequence-classification-python-keras/\n",
    "    \n",
    "    model = Sequential()\n",
    "    model.add(Bidirectional(LSTM(output_sequence_length, return_sequences= True), input_shape= input_shape[1:])) # shape for 1d vector\n",
    "    model.add(Dense(french_vocab_size)) # fully connect layer with as many outputs as the french vocabulary\n",
    "    model.add(Activation('relu')) # protect against disappearing gradient \n",
    "    model.add(Dense(french_vocab_size)) # fully connect layer with as many outputs as the french vocabulary\n",
    "    model.add(Activation('softmax')) # softmax for multi-class\n",
    "    \n",
    "    learning_rate = 0.1\n",
    "    \n",
    "    model.compile(loss=sparse_categorical_crossentropy,\n",
    "                  optimizer=Adam(learning_rate),\n",
    "                  metrics=['accuracy'])\n",
    "    \n",
    "    print(model.summary())\n",
    "    \n",
    "    return model\n",
    "\n",
    "\n",
    "tests.test_bd_model(bd_model)"
   ]
  },
  {
   "cell_type": "code",
   "execution_count": 10,
   "metadata": {
    "collapsed": false,
    "deletable": true,
    "editable": true,
    "scrolled": true
   },
   "outputs": [
    {
     "name": "stdout",
     "output_type": "stream",
     "text": [
      "Train on 110288 samples, validate on 27573 samples\n",
      "Epoch 1/10\n",
      "15s - loss: 1.9921 - acc: 0.5499 - val_loss: nan - val_acc: 0.5936\n",
      "Epoch 2/10\n",
      "11s - loss: 1.5108 - acc: 0.6056 - val_loss: nan - val_acc: 0.6099\n",
      "Epoch 3/10\n",
      "11s - loss: 1.4384 - acc: 0.6144 - val_loss: nan - val_acc: 0.6273\n",
      "Epoch 4/10\n",
      "11s - loss: 1.4268 - acc: 0.6165 - val_loss: nan - val_acc: 0.6242\n",
      "Epoch 5/10\n",
      "11s - loss: 1.3842 - acc: 0.6243 - val_loss: nan - val_acc: 0.6342\n",
      "Epoch 6/10\n",
      "11s - loss: 1.3502 - acc: 0.6280 - val_loss: nan - val_acc: 0.6341\n",
      "Epoch 7/10\n",
      "11s - loss: 1.3352 - acc: 0.6312 - val_loss: nan - val_acc: 0.6383\n",
      "Epoch 8/10\n",
      "11s - loss: 1.3141 - acc: 0.6349 - val_loss: nan - val_acc: 0.6333\n",
      "Epoch 9/10\n",
      "11s - loss: 1.3037 - acc: 0.6364 - val_loss: nan - val_acc: 0.6384\n",
      "Epoch 10/10\n",
      "11s - loss: 1.2856 - acc: 0.6393 - val_loss: nan - val_acc: 0.6414\n",
      "new jersey est parfois calme en en et il est est en en <PAD> <PAD> <PAD> <PAD> <PAD> <PAD> <PAD> <PAD>\n"
     ]
    }
   ],
   "source": [
    "# Reshaping the input to work with a basic RNN\n",
    "tmp_x = pad(preproc_english_sentences, preproc_french_sentences.shape[1])\n",
    "tmp_x = tmp_x.reshape((-1, preproc_french_sentences.shape[-2], 1))\n",
    "\n",
    "# Train the neural network\n",
    "bd_model = bd_model(\n",
    "    tmp_x.shape,\n",
    "    preproc_french_sentences.shape[1],\n",
    "    len(english_tokenizer.word_index),\n",
    "    len(french_tokenizer.word_index))\n",
    "\n",
    "bd_model.fit(tmp_x, preproc_french_sentences, batch_size=1024, epochs=10, validation_split=0.2, verbose= 2)\n",
    "\n",
    "# Print prediction(s)\n",
    "print(logits_to_text(bd_model.predict(tmp_x[:1])[0], french_tokenizer))"
   ]
  },
  {
   "cell_type": "markdown",
   "metadata": {
    "deletable": true,
    "editable": true
   },
   "source": [
    "### Model 4: Encoder-Decoder (OPTIONAL)\n",
    "Time to look at encoder-decoder models.  This model is made up of an encoder and decoder. The encoder creates a matrix representation of the sentence.  The decoder takes this matrix as input and predicts the translation as output.\n",
    "\n",
    "Create an encoder-decoder model in the cell below."
   ]
  },
  {
   "cell_type": "code",
   "execution_count": 30,
   "metadata": {
    "collapsed": false
   },
   "outputs": [
    {
     "name": "stdout",
     "output_type": "stream",
     "text": [
      "_________________________________________________________________\n",
      "Layer (type)                 Output Shape              Param #   \n",
      "=================================================================\n",
      "lstm_36 (LSTM)               (None, 344)               476096    \n",
      "_________________________________________________________________\n",
      "repeat_vector_16 (RepeatVect (None, 21, 344)           0         \n",
      "_________________________________________________________________\n",
      "lstm_37 (LSTM)               (None, 21, 344)           948064    \n",
      "_________________________________________________________________\n",
      "dense_39 (Dense)             (None, 21, 344)           118680    \n",
      "_________________________________________________________________\n",
      "activation_39 (Activation)   (None, 21, 344)           0         \n",
      "_________________________________________________________________\n",
      "dense_40 (Dense)             (None, 21, 344)           118680    \n",
      "_________________________________________________________________\n",
      "activation_40 (Activation)   (None, 21, 344)           0         \n",
      "=================================================================\n",
      "Total params: 1,661,520\n",
      "Trainable params: 1,661,520\n",
      "Non-trainable params: 0\n",
      "_________________________________________________________________\n",
      "None\n"
     ]
    }
   ],
   "source": [
    "from keras.layers import RepeatVector\n",
    "\n",
    "\n",
    "def encdec_model(input_shape, output_sequence_length, english_vocab_size, french_vocab_size):\n",
    "    \"\"\"\n",
    "    Build and train an encoder-decoder model on x and y\n",
    "    :param input_shape: Tuple of input shape\n",
    "    :param output_sequence_length: Length of output sequence\n",
    "    :param english_vocab_size: Number of unique English words in the dataset\n",
    "    :param french_vocab_size: Number of unique French words in the dataset\n",
    "    :return: Keras model built, but not trained\n",
    "    \"\"\"\n",
    "   \n",
    "    \n",
    "    # https://blog.keras.io/building-autoencoders-in-keras.html\n",
    "    # https://github.com/farizrahman4u/seq2seq\n",
    "    \n",
    "         \n",
    "    model = Sequential()\n",
    "    model.add(LSTM(french_vocab_size, input_shape= input_shape[1:], return_sequences= False)) # shape for 1d vector\n",
    "    model.add(RepeatVector(output_sequence_length))\n",
    "    model.add(LSTM(french_vocab_size, return_sequences= True))\n",
    "    model.add(Dense(french_vocab_size)) # fully connect layer with as many outputs as the french vocabulary\n",
    "    model.add(Activation('relu')) # protect against disapearing gradient \n",
    "    model.add(Dense(french_vocab_size)) # fully connect layer with as many outputs as the french vocabulary\n",
    "    model.add(Activation('softmax')) # softmax for multi-class\n",
    "    \n",
    "    learning_rate = 0.01\n",
    "    \n",
    "    model.compile(loss=sparse_categorical_crossentropy,\n",
    "                  optimizer=Adam(learning_rate),\n",
    "                  metrics=['accuracy'])   \n",
    "    \n",
    "    print(model.summary())\n",
    "    \n",
    "    return model\n",
    "\n",
    "tests.test_encdec_model(encdec_model)"
   ]
  },
  {
   "cell_type": "code",
   "execution_count": 31,
   "metadata": {
    "collapsed": false,
    "deletable": true,
    "editable": true
   },
   "outputs": [
    {
     "name": "stdout",
     "output_type": "stream",
     "text": [
      "_________________________________________________________________\n",
      "Layer (type)                 Output Shape              Param #   \n",
      "=================================================================\n",
      "lstm_38 (LSTM)               (None, 344)               476096    \n",
      "_________________________________________________________________\n",
      "repeat_vector_17 (RepeatVect (None, 21, 344)           0         \n",
      "_________________________________________________________________\n",
      "lstm_39 (LSTM)               (None, 21, 344)           948064    \n",
      "_________________________________________________________________\n",
      "dense_41 (Dense)             (None, 21, 344)           118680    \n",
      "_________________________________________________________________\n",
      "activation_41 (Activation)   (None, 21, 344)           0         \n",
      "_________________________________________________________________\n",
      "dense_42 (Dense)             (None, 21, 344)           118680    \n",
      "_________________________________________________________________\n",
      "activation_42 (Activation)   (None, 21, 344)           0         \n",
      "=================================================================\n",
      "Total params: 1,661,520\n",
      "Trainable params: 1,661,520\n",
      "Non-trainable params: 0\n",
      "_________________________________________________________________\n",
      "None\n",
      "Train on 110288 samples, validate on 27573 samples\n",
      "Epoch 1/10\n",
      "39s - loss: 3.0397 - acc: 0.4183 - val_loss: nan - val_acc: 0.4597\n",
      "Epoch 2/10\n",
      "37s - loss: 2.4161 - acc: 0.4672 - val_loss: nan - val_acc: 0.4665\n",
      "Epoch 3/10\n",
      "37s - loss: 2.2822 - acc: 0.4861 - val_loss: nan - val_acc: 0.5088\n",
      "Epoch 4/10\n",
      "37s - loss: 2.0497 - acc: 0.5249 - val_loss: nan - val_acc: 0.5347\n",
      "Epoch 5/10\n",
      "37s - loss: 1.8107 - acc: 0.5545 - val_loss: nan - val_acc: 0.5754\n",
      "Epoch 6/10\n",
      "37s - loss: 1.5513 - acc: 0.5828 - val_loss: nan - val_acc: 0.5933\n",
      "Epoch 7/10\n",
      "37s - loss: 1.4415 - acc: 0.5997 - val_loss: nan - val_acc: 0.6078\n",
      "Epoch 8/10\n",
      "37s - loss: 1.4273 - acc: 0.6072 - val_loss: nan - val_acc: 0.5659\n",
      "Epoch 9/10\n",
      "37s - loss: 1.3903 - acc: 0.6128 - val_loss: nan - val_acc: 0.6153\n",
      "Epoch 10/10\n",
      "37s - loss: 1.3186 - acc: 0.6295 - val_loss: nan - val_acc: 0.6330\n",
      "new jersey est jamais agréable en mois mais il est est en en <PAD> <PAD> <PAD> <PAD> <PAD> <PAD> <PAD> <PAD>\n"
     ]
    }
   ],
   "source": [
    "# Reshaping the input to work with a basic RNN\n",
    "tmp_x = pad(preproc_english_sentences, preproc_french_sentences.shape[1])\n",
    "tmp_x = tmp_x.reshape((-1, preproc_french_sentences.shape[-2], 1))\n",
    "\n",
    "# Train the neural network\n",
    "encdec_model = encdec_model(\n",
    "    tmp_x.shape,\n",
    "    preproc_french_sentences.shape[1],\n",
    "    len(english_tokenizer.word_index),\n",
    "    len(french_tokenizer.word_index))\n",
    "\n",
    "encdec_model.fit(tmp_x, preproc_french_sentences, batch_size=1024, epochs=10, validation_split=0.2, verbose= 2)\n",
    "\n",
    "# Print prediction(s)\n",
    "print(logits_to_text(encdec_model.predict(tmp_x[:1])[0], french_tokenizer))"
   ]
  },
  {
   "cell_type": "markdown",
   "metadata": {
    "deletable": true,
    "editable": true
   },
   "source": [
    "### Model 5: Custom (IMPLEMENTATION)\n",
    "Use everything you learned from the previous models to create a model that incorporates embedding and a bidirectional rnn into one model."
   ]
  },
  {
   "cell_type": "code",
   "execution_count": 29,
   "metadata": {
    "collapsed": false,
    "deletable": true,
    "editable": true,
    "scrolled": true
   },
   "outputs": [
    {
     "name": "stdout",
     "output_type": "stream",
     "text": [
      "_________________________________________________________________\n",
      "Layer (type)                 Output Shape              Param #   \n",
      "=================================================================\n",
      "embedding_18 (Embedding)     (None, 15, 250)           49750     \n",
      "_________________________________________________________________\n",
      "bidirectional_29 (Bidirectio (None, 256)               388096    \n",
      "_________________________________________________________________\n",
      "repeat_vector_15 (RepeatVect (None, 21, 256)           0         \n",
      "_________________________________________________________________\n",
      "dense_37 (Dense)             (None, 21, 128)           32896     \n",
      "_________________________________________________________________\n",
      "activation_37 (Activation)   (None, 21, 128)           0         \n",
      "_________________________________________________________________\n",
      "bidirectional_30 (Bidirectio (None, 21, 256)           263168    \n",
      "_________________________________________________________________\n",
      "dense_38 (Dense)             (None, 21, 344)           88408     \n",
      "_________________________________________________________________\n",
      "activation_38 (Activation)   (None, 21, 344)           0         \n",
      "=================================================================\n",
      "Total params: 822,318\n",
      "Trainable params: 822,318\n",
      "Non-trainable params: 0\n",
      "_________________________________________________________________\n",
      "None\n",
      "Final Model Loaded\n"
     ]
    }
   ],
   "source": [
    "def model_final(input_shape, output_sequence_length, english_vocab_size, french_vocab_size):\n",
    "    \"\"\"\n",
    "    Build and train a model that incorporates embedding, encoder-decoder, and bidirectional RNN on x and y\n",
    "    :param input_shape: Tuple of input shape\n",
    "    :param output_sequence_length: Length of output sequence\n",
    "    :param english_vocab_size: Number of unique English words in the dataset\n",
    "    :param french_vocab_size: Number of unique French words in the dataset\n",
    "    :return: Keras model built, but not trained\n",
    "    \"\"\"\n",
    "    \n",
    "    BATCH_DIMENSION = 250\n",
    "    \n",
    "    model = Sequential()\n",
    "    model.add(Embedding(english_vocab_size, BATCH_DIMENSION, input_shape=(input_shape[1], )))\n",
    "    model.add(Bidirectional(LSTM(128, return_sequences=False)))\n",
    "    model.add(RepeatVector(output_sequence_length))\n",
    "    model.add(Dense(128)) # fully connect layer with as many outputs as the french vocabulary\n",
    "    model.add(Activation('relu')) # protect against disappearing gradient \n",
    "    model.add(Bidirectional(LSTM(128, return_sequences=True)))\n",
    "    model.add(Dense(french_vocab_size)) # fully connect layer with as many outputs as the french vocabulary\n",
    "    model.add(Activation('softmax')) # softmax for multi-class  \n",
    "    \n",
    "    \n",
    "    learning_rate = 0.001\n",
    "    \n",
    "    model.compile(loss=sparse_categorical_crossentropy,\n",
    "                  optimizer=Adam(learning_rate),\n",
    "                  metrics=['accuracy'])\n",
    "    \n",
    "    print(model.summary())\n",
    "    \n",
    "    return model\n",
    "\n",
    "tests.test_model_final(model_final)\n",
    "\n",
    "\n",
    "print('Final Model Loaded')"
   ]
  },
  {
   "cell_type": "markdown",
   "metadata": {
    "deletable": true,
    "editable": true
   },
   "source": [
    "## Prediction (IMPLEMENTATION)"
   ]
  },
  {
   "cell_type": "code",
   "execution_count": 28,
   "metadata": {
    "collapsed": false,
    "deletable": true,
    "editable": true
   },
   "outputs": [
    {
     "name": "stdout",
     "output_type": "stream",
     "text": [
      "_________________________________________________________________\n",
      "Layer (type)                 Output Shape              Param #   \n",
      "=================================================================\n",
      "embedding_17 (Embedding)     (None, 15, 250)           49750     \n",
      "_________________________________________________________________\n",
      "bidirectional_27 (Bidirectio (None, 256)               388096    \n",
      "_________________________________________________________________\n",
      "repeat_vector_14 (RepeatVect (None, 21, 256)           0         \n",
      "_________________________________________________________________\n",
      "dense_35 (Dense)             (None, 21, 128)           32896     \n",
      "_________________________________________________________________\n",
      "activation_35 (Activation)   (None, 21, 128)           0         \n",
      "_________________________________________________________________\n",
      "bidirectional_28 (Bidirectio (None, 21, 256)           263168    \n",
      "_________________________________________________________________\n",
      "dense_36 (Dense)             (None, 21, 344)           88408     \n",
      "_________________________________________________________________\n",
      "activation_36 (Activation)   (None, 21, 344)           0         \n",
      "=================================================================\n",
      "Total params: 822,318\n",
      "Trainable params: 822,318\n",
      "Non-trainable params: 0\n",
      "_________________________________________________________________\n",
      "None\n",
      "Train on 110288 samples, validate on 27573 samples\n",
      "Epoch 1/40\n",
      "30s - loss: 2.9021 - acc: 0.4515 - val_loss: nan - val_acc: 0.5190\n",
      "Epoch 2/40\n",
      "28s - loss: 1.9046 - acc: 0.5409 - val_loss: nan - val_acc: 0.5643\n",
      "Epoch 3/40\n",
      "28s - loss: 1.6052 - acc: 0.5828 - val_loss: nan - val_acc: 0.6026\n",
      "Epoch 4/40\n",
      "28s - loss: 1.4113 - acc: 0.6224 - val_loss: nan - val_acc: 0.6326\n",
      "Epoch 5/40\n",
      "28s - loss: 1.2655 - acc: 0.6510 - val_loss: nan - val_acc: 0.6663\n",
      "Epoch 6/40\n",
      "28s - loss: 1.1523 - acc: 0.6805 - val_loss: nan - val_acc: 0.6938\n",
      "Epoch 7/40\n",
      "28s - loss: 1.0575 - acc: 0.7031 - val_loss: nan - val_acc: 0.7100\n",
      "Epoch 8/40\n",
      "28s - loss: 0.9783 - acc: 0.7209 - val_loss: nan - val_acc: 0.7329\n",
      "Epoch 9/40\n",
      "28s - loss: 0.8995 - acc: 0.7411 - val_loss: nan - val_acc: 0.7476\n",
      "Epoch 10/40\n",
      "28s - loss: 0.8370 - acc: 0.7580 - val_loss: nan - val_acc: 0.7599\n",
      "Epoch 11/40\n",
      "28s - loss: 0.7740 - acc: 0.7759 - val_loss: nan - val_acc: 0.7828\n",
      "Epoch 12/40\n",
      "28s - loss: 0.7127 - acc: 0.7938 - val_loss: nan - val_acc: 0.8031\n",
      "Epoch 13/40\n",
      "28s - loss: 0.6577 - acc: 0.8098 - val_loss: nan - val_acc: 0.8172\n",
      "Epoch 14/40\n",
      "28s - loss: 0.6096 - acc: 0.8232 - val_loss: nan - val_acc: 0.8291\n",
      "Epoch 15/40\n",
      "28s - loss: 0.5569 - acc: 0.8381 - val_loss: nan - val_acc: 0.8436\n",
      "Epoch 16/40\n",
      "28s - loss: 0.5079 - acc: 0.8524 - val_loss: nan - val_acc: 0.8544\n",
      "Epoch 17/40\n",
      "28s - loss: 0.4613 - acc: 0.8664 - val_loss: nan - val_acc: 0.8668\n",
      "Epoch 18/40\n",
      "28s - loss: 0.4234 - acc: 0.8777 - val_loss: nan - val_acc: 0.8742\n",
      "Epoch 19/40\n",
      "28s - loss: 0.3848 - acc: 0.8897 - val_loss: nan - val_acc: 0.8955\n",
      "Epoch 20/40\n",
      "28s - loss: 0.3511 - acc: 0.9004 - val_loss: nan - val_acc: 0.9063\n",
      "Epoch 21/40\n",
      "28s - loss: 0.3207 - acc: 0.9099 - val_loss: nan - val_acc: 0.9140\n",
      "Epoch 22/40\n",
      "28s - loss: 0.2937 - acc: 0.9182 - val_loss: nan - val_acc: 0.9202\n",
      "Epoch 23/40\n",
      "28s - loss: 0.2684 - acc: 0.9260 - val_loss: nan - val_acc: 0.9280\n",
      "Epoch 24/40\n",
      "28s - loss: 0.2465 - acc: 0.9328 - val_loss: nan - val_acc: 0.9329\n",
      "Epoch 25/40\n",
      "28s - loss: 0.2270 - acc: 0.9386 - val_loss: nan - val_acc: 0.9365\n",
      "Epoch 26/40\n",
      "28s - loss: 0.2091 - acc: 0.9440 - val_loss: nan - val_acc: 0.9420\n",
      "Epoch 27/40\n",
      "28s - loss: 0.1963 - acc: 0.9476 - val_loss: nan - val_acc: 0.9467\n",
      "Epoch 28/40\n",
      "28s - loss: 0.1803 - acc: 0.9522 - val_loss: nan - val_acc: 0.9489\n",
      "Epoch 29/40\n",
      "28s - loss: 0.1713 - acc: 0.9544 - val_loss: nan - val_acc: 0.9512\n",
      "Epoch 30/40\n",
      "28s - loss: 0.1618 - acc: 0.9567 - val_loss: nan - val_acc: 0.9560\n",
      "Epoch 31/40\n",
      "28s - loss: 0.1484 - acc: 0.9607 - val_loss: nan - val_acc: 0.9575\n",
      "Epoch 32/40\n",
      "28s - loss: 0.1364 - acc: 0.9639 - val_loss: nan - val_acc: 0.9590\n",
      "Epoch 33/40\n",
      "28s - loss: 0.1542 - acc: 0.9573 - val_loss: nan - val_acc: 0.9619\n",
      "Epoch 34/40\n",
      "28s - loss: 0.1247 - acc: 0.9669 - val_loss: nan - val_acc: 0.9623\n",
      "Epoch 35/40\n",
      "28s - loss: 0.1194 - acc: 0.9681 - val_loss: nan - val_acc: 0.9639\n",
      "Epoch 36/40\n",
      "28s - loss: 0.1109 - acc: 0.9704 - val_loss: nan - val_acc: 0.9667\n",
      "Epoch 37/40\n",
      "28s - loss: 0.1051 - acc: 0.9718 - val_loss: nan - val_acc: 0.9648\n",
      "Epoch 38/40\n",
      "28s - loss: 0.1019 - acc: 0.9726 - val_loss: nan - val_acc: 0.9667\n",
      "Epoch 39/40\n",
      "28s - loss: 0.0961 - acc: 0.9741 - val_loss: nan - val_acc: 0.9701\n",
      "Epoch 40/40\n",
      "28s - loss: 0.0980 - acc: 0.9732 - val_loss: nan - val_acc: 0.9666\n",
      "Sample 1:\n",
      "il a vu un vieux camion jaune <PAD> <PAD> <PAD> <PAD> <PAD> <PAD> <PAD> <PAD> <PAD> <PAD> <PAD> <PAD> <PAD> <PAD>\n",
      "Il a vu un vieux camion jaune\n",
      "Sample 2:\n",
      "new jersey est parfois calme pendant l' automne et il est neigeux en avril <PAD> <PAD> <PAD> <PAD> <PAD> <PAD> <PAD>\n",
      "<PAD> <PAD> <PAD> <PAD> <PAD> <PAD> <PAD> <PAD> <PAD> <PAD> <PAD> <PAD> <PAD> <PAD> <PAD> <PAD> <PAD> <PAD> <PAD> <PAD> <PAD>\n"
     ]
    }
   ],
   "source": [
    "import numpy as np\n",
    "from keras.preprocessing.sequence import pad_sequences\n",
    "\n",
    "\n",
    "def final_predictions(x, y, x_tk, y_tk):\n",
    "    \"\"\"\n",
    "    Gets predictions using the final model\n",
    "    :param x: Preprocessed English data\n",
    "    :param y: Preprocessed French data\n",
    "    :param x_tk: English tokenizer\n",
    "    :param y_tk: French tokenizer\n",
    "    \"\"\"\n",
    "    \n",
    "    \n",
    "    model = model_final(x.shape, y.shape[1], len(x_tk.word_index), len(y_tk.word_index))\n",
    "    \n",
    "    model.fit(x, y, batch_size=1024, epochs=40, validation_split=0.2, verbose= 2)\n",
    "    model.save('final_model.h5')\n",
    "\n",
    "    \n",
    "    ## DON'T EDIT ANYTHING BELOW THIS LINE\n",
    "    y_id_to_word = {value: key for key, value in y_tk.word_index.items()}\n",
    "    y_id_to_word[0] = '<PAD>'\n",
    "\n",
    "    sentence = 'he saw a old yellow truck'\n",
    "    sentence = [x_tk.word_index[word] for word in sentence.split()]\n",
    "    sentence = pad_sequences([sentence], maxlen=x.shape[-1], padding='post')\n",
    "    sentences = np.array([sentence[0], x[0]])\n",
    "    predictions = model.predict(sentences, len(sentences))\n",
    "\n",
    "    print('Sample 1:')\n",
    "    print(' '.join([y_id_to_word[np.argmax(x)] for x in predictions[0]]))\n",
    "    print('Il a vu un vieux camion jaune')\n",
    "    print('Sample 2:')\n",
    "    print(' '.join([y_id_to_word[np.argmax(x)] for x in predictions[1]]))\n",
    "    print(' '.join([y_id_to_word[np.argmax(x)] for x in y[0]]))\n",
    "\n",
    "\n",
    "final_predictions(preproc_english_sentences, preproc_french_sentences, english_tokenizer, french_tokenizer)"
   ]
  },
  {
   "cell_type": "markdown",
   "metadata": {
    "deletable": true,
    "editable": true
   },
   "source": [
    "## Submission\n",
    "When you are ready to submit your project, do the following steps:\n",
    "1. Ensure you pass all points on the [rubric](https://review.udacity.com/#!/rubrics/1004/view).\n",
    "2. Submit the following in a zip file.\n",
    "  - `helper.py`\n",
    "  - `machine_translation.ipynb`\n",
    "  - `machine_translation.html`\n",
    "    - You can export the notebook by navigating to **File -> Download as -> HTML (.html)**."
   ]
  }
 ],
 "metadata": {
  "anaconda-cloud": {},
  "kernelspec": {
   "display_name": "Python 3",
   "language": "python",
   "name": "python3"
  },
  "language_info": {
   "codemirror_mode": {
    "name": "ipython",
    "version": 3
   },
   "file_extension": ".py",
   "mimetype": "text/x-python",
   "name": "python",
   "nbconvert_exporter": "python",
   "pygments_lexer": "ipython3",
   "version": "3.6.0"
  }
 },
 "nbformat": 4,
 "nbformat_minor": 0
}
